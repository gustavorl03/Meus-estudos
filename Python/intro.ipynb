{
 "cells": [
  {
   "cell_type": "code",
   "execution_count": null,
   "id": "67444b3a",
   "metadata": {},
   "outputs": [
    {
     "name": "stdout",
     "output_type": "stream",
     "text": [
      "O tipo primitivo desse valor é <class 'str'> \n",
      "Só tem espaços? False\n",
      "É alfabético? True\n",
      "Tem espaço? False\n",
      "Tem maiúscula? True\n",
      "Tem minúscula? False\n",
      "Tem número? True\n"
     ]
    }
   ],
   "source": [
    "a= str(input(\"Digite algo: \"))\n",
    "print(f\"O tipo primitivo desse valor é {type(a)} \")\n",
    "print (\"Só tem espaços? {}\" .format(a.isspace()))\n",
    "print(\"É alfabético? {}\" .format(a.isalpha()))\n",
    "print(\"Tem espaço? {}\" .format(a.isspace()))\n",
    "print(\"Tem maiúscula? {}\" .format(a.isupper()))\n",
    "print(\"Tem minúscula? {}\" .format(a.islower()))\n"
   ]
  },
  {
   "cell_type": "code",
   "execution_count": null,
   "id": "6c3359eb",
   "metadata": {},
   "outputs": [
    {
     "name": "stdout",
     "output_type": "stream",
     "text": [
      "A raiz de 81 é igual a 9\n"
     ]
    }
   ],
   "source": [
    "import math\n",
    "\n",
    "n1=int(input(\"Digite um número: \"))\n",
    "raiz= math.sqrt(n1)\n",
    "print(\"A raiz de {} é igual a {:.0f}\".format(n1,raiz))"
   ]
  },
  {
   "cell_type": "code",
   "execution_count": null,
   "id": "0a680af8",
   "metadata": {},
   "outputs": [
    {
     "name": "stdout",
     "output_type": "stream",
     "text": [
      "3\n",
      "21\n"
     ]
    }
   ],
   "source": [
    "frase= \"Curso em Vídeo Python\"\n",
    "print(frase.upper().count(\"O\"))\n",
    "\n",
    "print(len(frase))\n"
   ]
  },
  {
   "cell_type": "code",
   "execution_count": 16,
   "id": "35607ab8",
   "metadata": {},
   "outputs": [
    {
     "name": "stdout",
     "output_type": "stream",
     "text": [
      "A quantidade de vezes que a letra 'A' aparece é de 4 \n",
      "A primeira letra 'A' apareceu na posição 0\n",
      "A última letra 'A' apareceu na posição 7\n"
     ]
    }
   ],
   "source": [
    "frase=str(input(\"Digite uma frase: \")).upper() .strip()\n",
    "print(\"A quantidade de vezes que a letra 'A' aparece é de {} \".format(frase.count(\"A\")))\n",
    "print(\"A primeira letra 'A' apareceu na posição {}\".format(frase.find(\"A\")))\n",
    "print(\"A última letra 'A' apareceu na posição {}\".format(frase.rfind(\"A\")+1))"
   ]
  },
  {
   "cell_type": "code",
   "execution_count": 18,
   "id": "c27aab73",
   "metadata": {},
   "outputs": [
    {
     "name": "stdout",
     "output_type": "stream",
     "text": [
      "Nome horrível\n",
      "Espero que tenha gostado!\n"
     ]
    }
   ],
   "source": [
    "nome= str(input(\"Digite o seu nome: \"))\n",
    "if nome==\"Gustavo\":\n",
    "    print(\"Melhor nome do mundo!\")\n",
    "else:\n",
    "    print(\"Nome horrível\")\n",
    "print(\"Espero que tenha gostado!\")"
   ]
  },
  {
   "cell_type": "code",
   "execution_count": 19,
   "id": "037d545e",
   "metadata": {},
   "outputs": [
    {
     "name": "stdout",
     "output_type": "stream",
     "text": [
      "VOCÊ FOI MULTADO!!!!!\n",
      "Sua multa é de R$70.0\n"
     ]
    }
   ],
   "source": [
    "km = float(input(\"Quantos km você estava na rodovia?\"))\n",
    "if km<=80:\n",
    "    print(\"Escapou por enquanto...\")\n",
    "else:\n",
    "    print(\"VOCÊ FOI MULTADO!!!!!\")\n",
    "    multa= (km - 80) * 7\n",
    "    print(\"Sua multa é de R${}\".format(multa))"
   ]
  },
  {
   "cell_type": "code",
   "execution_count": 23,
   "id": "83cb1dc7",
   "metadata": {},
   "outputs": [
    {
     "name": "stdout",
     "output_type": "stream",
     "text": [
      "Seu número é ímpar\n"
     ]
    }
   ],
   "source": [
    "n1= int(input(\"Digite um número:\"))\n",
    "if n1%2==0:\n",
    "    print(\"Seu número é par!\")\n",
    "else:\n",
    "    print(\"Seu número é ímpar\")"
   ]
  },
  {
   "cell_type": "code",
   "execution_count": 30,
   "id": "a13dcfc6",
   "metadata": {},
   "outputs": [
    {
     "name": "stdout",
     "output_type": "stream",
     "text": [
      "********************\n",
      "Vou pensar em um número entre 0 e 5. Tente advinhar se for capaz(:\n",
      "Parábens! Você venceu.\n"
     ]
    }
   ],
   "source": [
    "from random import randint\n",
    "computador= randint(0,5)\n",
    "print(\"*\"*20)\n",
    "print(\"Vou pensar em um número entre 0 e 5. Tente advinhar se for capaz(:\")\n",
    "n1= int(input(\"Digite seu número: \"))\n",
    "if n1==computador:\n",
    "    print(\"Parábens! Você venceu.\")\n",
    "else:\n",
    "    print(\"HAHAHA, tente novamente...(Eu pensei no número {})\".format(computador))\n"
   ]
  }
 ],
 "metadata": {
  "kernelspec": {
   "display_name": "Python 3",
   "language": "python",
   "name": "python3"
  },
  "language_info": {
   "codemirror_mode": {
    "name": "ipython",
    "version": 3
   },
   "file_extension": ".py",
   "mimetype": "text/x-python",
   "name": "python",
   "nbconvert_exporter": "python",
   "pygments_lexer": "ipython3",
   "version": "3.13.7"
  }
 },
 "nbformat": 4,
 "nbformat_minor": 5
}
