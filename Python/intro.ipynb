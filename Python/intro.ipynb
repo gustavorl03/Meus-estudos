{
 "cells": [
  {
   "cell_type": "code",
   "execution_count": null,
   "id": "67444b3a",
   "metadata": {},
   "outputs": [
    {
     "name": "stdout",
     "output_type": "stream",
     "text": [
      "O tipo primitivo desse valor é <class 'str'> \n",
      "Só tem espaços? False\n",
      "É alfabético? True\n",
      "Tem espaço? False\n",
      "Tem maiúscula? True\n",
      "Tem minúscula? False\n",
      "Tem número? True\n"
     ]
    }
   ],
   "source": [
    "a= str(input(\"Digite algo: \"))\n",
    "print(f\"O tipo primitivo desse valor é {type(a)} \")\n",
    "print (\"Só tem espaços? {}\" .format(a.isspace()))\n",
    "print(\"É alfabético? {}\" .format(a.isalpha()))\n",
    "print(\"Tem espaço? {}\" .format(a.isspace()))\n",
    "print(\"Tem maiúscula? {}\" .format(a.isupper()))\n",
    "print(\"Tem minúscula? {}\" .format(a.islower()))\n"
   ]
  },
  {
   "cell_type": "code",
   "execution_count": 3,
   "id": "de231212",
   "metadata": {},
   "outputs": [
    {
     "name": "stdout",
     "output_type": "stream",
     "text": [
      "Você tem direito aos benefícios!\n"
     ]
    }
   ],
   "source": [
    "idade = int(input(\"Digite sua idade: \"))\n",
    "\n",
    "if (idade > 60):\n",
    "    print(\"Você tem direito aos benefícios!\")\n",
    "else: \n",
    "    print(\"Você não tem direito aos benefícios!\")"
   ]
  },
  {
   "cell_type": "code",
   "execution_count": 6,
   "id": "d21f7695",
   "metadata": {},
   "outputs": [
    {
     "name": "stdout",
     "output_type": "stream",
     "text": [
      "Você está morto!\n"
     ]
    }
   ],
   "source": [
    "escudo = int(input(\"Digite o valor do escudo: \"))\n",
    "dano= int(input(\"Digite o valor do dano: \"))\n",
    "\n",
    "if (dano > 10 and escudo==0):\n",
    "    print(\"Você está morto!\")"
   ]
  },
  {
   "cell_type": "code",
   "execution_count": 21,
   "id": "a9a262b7",
   "metadata": {},
   "outputs": [
    {
     "name": "stdout",
     "output_type": "stream",
     "text": [
      "Seu triângulo é equilátero!\n"
     ]
    }
   ],
   "source": [
    "X1= float(input(\"Digite o primeiro valor: \"))\n",
    "X2= float(input(\"Digite o segundo valor: \"))\n",
    "X3= float(input(\"Digite o terceiro valor: \"))\n",
    "\n",
    "if (X1 == X2 and X1==X3):\n",
    "    print(\"Seu triângulo é equilátero!\")\n",
    "else:\n",
    "    if (X1==X2 or X1==X3):\n",
    "        print(\"Seu triângulo é isósceles!\")\n",
    "    else:\n",
    "        print(\"Seu triângulo é escaleno!\")\n",
    "\n"
   ]
  },
  {
   "cell_type": "code",
   "execution_count": 24,
   "id": "e06a7476",
   "metadata": {},
   "outputs": [
    {
     "name": "stdout",
     "output_type": "stream",
     "text": [
      "Escolha a operação que deseja fazer:1) SOMA2) SUBTRAÇÃO3) MULTIPLICAÇÃO4) DIVISÃO\n",
      "5.0\n"
     ]
    }
   ],
   "source": [
    "X1= float(input(\"Digite o primeiro valor: \"))\n",
    "X2= float(input(\"Digite o segundo valor: \"))\n",
    "\n",
    "soma = X1 + X2\n",
    "subtra = X1 - X2\n",
    "multi = X1 * X2\n",
    "div= X1 / X2\n",
    "\n",
    "print (\"Escolha a operação que deseja fazer:\" \\\n",
    "\"1) SOMA\" \\\n",
    "\"2) SUBTRAÇÃO\" \\\n",
    "\"3) MULTIPLICAÇÃO\" \\\n",
    "\"4) DIVISÃO\")\n",
    "\n",
    "resp= int(input(\"\"))\n",
    "\n",
    "if (resp==1):\n",
    "    print(soma) \n",
    "else:\n",
    "    if(resp==2):\n",
    "        print(subtra)\n",
    "    else:\n",
    "        if(resp==3):\n",
    "            print(multi)\n",
    "        else:\n",
    "            print(div)"
   ]
  }
 ],
 "metadata": {
  "kernelspec": {
   "display_name": "Python 3",
   "language": "python",
   "name": "python3"
  },
  "language_info": {
   "codemirror_mode": {
    "name": "ipython",
    "version": 3
   },
   "file_extension": ".py",
   "mimetype": "text/x-python",
   "name": "python",
   "nbconvert_exporter": "python",
   "pygments_lexer": "ipython3",
   "version": "3.13.7"
  }
 },
 "nbformat": 4,
 "nbformat_minor": 5
}
