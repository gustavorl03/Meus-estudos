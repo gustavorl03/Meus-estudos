{
 "cells": [
  {
   "cell_type": "code",
   "execution_count": null,
   "id": "67444b3a",
   "metadata": {},
   "outputs": [
    {
     "name": "stdout",
     "output_type": "stream",
     "text": [
      "O tipo primitivo desse valor é <class 'str'> \n",
      "Só tem espaços? False\n",
      "É alfabético? True\n",
      "Tem espaço? False\n",
      "Tem maiúscula? True\n",
      "Tem minúscula? False\n",
      "Tem número? True\n"
     ]
    }
   ],
   "source": [
    "a= str(input(\"Digite algo: \"))\n",
    "print(f\"O tipo primitivo desse valor é {type(a)} \")\n",
    "print (\"Só tem espaços? {}\" .format(a.isspace()))\n",
    "print(\"É alfabético? {}\" .format(a.isalpha()))\n",
    "print(\"Tem espaço? {}\" .format(a.isspace()))\n",
    "print(\"Tem maiúscula? {}\" .format(a.isupper()))\n",
    "print(\"Tem minúscula? {}\" .format(a.islower()))\n"
   ]
  },
  {
   "cell_type": "code",
   "execution_count": null,
   "id": "6c3359eb",
   "metadata": {},
   "outputs": [
    {
     "name": "stdout",
     "output_type": "stream",
     "text": [
      "A raiz de 81 é igual a 9\n"
     ]
    }
   ],
   "source": [
    "import math\n",
    "\n",
    "n1=int(input(\"Digite um número: \"))\n",
    "raiz= math.sqrt(n1)\n",
    "print(\"A raiz de {} é igual a {:.0f}\".format(n1,raiz))"
   ]
  },
  {
   "cell_type": "code",
   "execution_count": null,
   "id": "0a680af8",
   "metadata": {},
   "outputs": [],
   "source": []
  }
 ],
 "metadata": {
  "kernelspec": {
   "display_name": "Python 3",
   "language": "python",
   "name": "python3"
  },
  "language_info": {
   "codemirror_mode": {
    "name": "ipython",
    "version": 3
   },
   "file_extension": ".py",
   "mimetype": "text/x-python",
   "name": "python",
   "nbconvert_exporter": "python",
   "pygments_lexer": "ipython3",
   "version": "3.13.7"
  }
 },
 "nbformat": 4,
 "nbformat_minor": 5
}
