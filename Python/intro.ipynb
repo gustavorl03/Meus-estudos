{
 "cells": [
  {
   "cell_type": "code",
   "execution_count": null,
   "id": "67444b3a",
   "metadata": {},
   "outputs": [
    {
     "name": "stdout",
     "output_type": "stream",
     "text": [
      "O tipo primitivo desse valor é <class 'str'> \n",
      "Só tem espaços? False\n",
      "É alfabético? True\n",
      "Tem espaço? False\n",
      "Tem maiúscula? True\n",
      "Tem minúscula? False\n",
      "Tem número? True\n"
     ]
    }
   ],
   "source": [
    "a= str(input(\"Digite algo: \"))\n",
    "print(f\"O tipo primitivo desse valor é {type(a)} \")\n",
    "print (\"Só tem espaços? {}\" .format(a.isspace()))\n",
    "print(\"É alfabético? {}\" .format(a.isalpha()))\n",
    "print(\"Tem espaço? {}\" .format(a.isspace()))\n",
    "print(\"Tem maiúscula? {}\" .format(a.isupper()))\n",
    "print(\"Tem minúscula? {}\" .format(a.islower()))\n"
   ]
  },
  {
   "cell_type": "code",
   "execution_count": null,
   "id": "6c3359eb",
   "metadata": {},
   "outputs": [
    {
     "name": "stdout",
     "output_type": "stream",
     "text": [
      "A raiz de 81 é igual a 9\n"
     ]
    }
   ],
   "source": [
    "import math\n",
    "\n",
    "n1=int(input(\"Digite um número: \"))\n",
    "raiz= math.sqrt(n1)\n",
    "print(\"A raiz de {} é igual a {:.0f}\".format(n1,raiz))"
   ]
  },
  {
   "cell_type": "code",
   "execution_count": null,
   "id": "0a680af8",
   "metadata": {},
   "outputs": [
    {
     "name": "stdout",
     "output_type": "stream",
     "text": [
      "3\n",
      "21\n"
     ]
    }
   ],
   "source": [
    "frase= \"Curso em Vídeo Python\"\n",
    "print(frase.upper().count(\"O\"))\n",
    "\n",
    "print(len(frase))\n"
   ]
  },
  {
   "cell_type": "code",
   "execution_count": 16,
   "id": "35607ab8",
   "metadata": {},
   "outputs": [
    {
     "name": "stdout",
     "output_type": "stream",
     "text": [
      "A quantidade de vezes que a letra 'A' aparece é de 4 \n",
      "A primeira letra 'A' apareceu na posição 0\n",
      "A última letra 'A' apareceu na posição 7\n"
     ]
    }
   ],
   "source": [
    "frase=str(input(\"Digite uma frase: \")).upper() .strip()\n",
    "print(\"A quantidade de vezes que a letra 'A' aparece é de {} \".format(frase.count(\"A\")))\n",
    "print(\"A primeira letra 'A' apareceu na posição {}\".format(frase.find(\"A\")))\n",
    "print(\"A última letra 'A' apareceu na posição {}\".format(frase.rfind(\"A\")+1))"
   ]
  },
  {
   "cell_type": "code",
   "execution_count": 18,
   "id": "c27aab73",
   "metadata": {},
   "outputs": [
    {
     "name": "stdout",
     "output_type": "stream",
     "text": [
      "Nome horrível\n",
      "Espero que tenha gostado!\n"
     ]
    }
   ],
   "source": [
    "nome= str(input(\"Digite o seu nome: \"))\n",
    "if nome==\"Gustavo\":\n",
    "    print(\"Melhor nome do mundo!\")\n",
    "else:\n",
    "    print(\"Nome horrível\")\n",
    "print(\"Espero que tenha gostado!\")"
   ]
  },
  {
   "cell_type": "code",
   "execution_count": 19,
   "id": "037d545e",
   "metadata": {},
   "outputs": [
    {
     "name": "stdout",
     "output_type": "stream",
     "text": [
      "VOCÊ FOI MULTADO!!!!!\n",
      "Sua multa é de R$70.0\n"
     ]
    }
   ],
   "source": [
    "km = float(input(\"Quantos km você estava na rodovia?\"))\n",
    "if km<=80:\n",
    "    print(\"Escapou por enquanto...\")\n",
    "else:\n",
    "    print(\"VOCÊ FOI MULTADO!!!!!\")\n",
    "    multa= (km - 80) * 7\n",
    "    print(\"Sua multa é de R${}\".format(multa))"
   ]
  },
  {
   "cell_type": "code",
   "execution_count": 23,
   "id": "83cb1dc7",
   "metadata": {},
   "outputs": [
    {
     "name": "stdout",
     "output_type": "stream",
     "text": [
      "Seu número é ímpar\n"
     ]
    }
   ],
   "source": [
    "n1= int(input(\"Digite um número:\"))\n",
    "if n1%2==0:\n",
    "    print(\"Seu número é par!\")\n",
    "else:\n",
    "    print(\"Seu número é ímpar\")"
   ]
  },
  {
   "cell_type": "code",
   "execution_count": 4,
   "id": "a13dcfc6",
   "metadata": {},
   "outputs": [
    {
     "name": "stdout",
     "output_type": "stream",
     "text": [
      "Sou seu computador...\n",
      "Acabei de pensar em um número entre 0 e 10.\n",
      "Será que você consegue adivinhar qual foi?\n",
      "Mais... Tente mais uma vez.\n",
      "Mais... Tente mais uma vez.\n",
      "Menos... Tente mais uma vez.\n",
      "Acertou com 3 tentativas. Parabéns!\n"
     ]
    }
   ],
   "source": [
    "from random import randint\n",
    "computador= randint(0,10)\n",
    "tent = 0\n",
    "tent1 = 0\n",
    "tent2 = 0\n",
    "print(\"Sou seu computador...\")\n",
    "print(\"Acabei de pensar em um número entre 0 e 10.\")\n",
    "print(\"Será que você consegue adivinhar qual foi?\")\n",
    "n1= int(input(\"Qual o seu palpite? \"))\n",
    "while n1 != computador:\n",
    "    if computador > n1:\n",
    "        print(\"Mais... Tente mais uma vez.\")\n",
    "        n1= int(input(\"Qual o seu palpite? \"))\n",
    "        tent1 = tent1 + 1\n",
    "    else:\n",
    "        print(\"Menos... Tente mais uma vez.\")\n",
    "        n1= int(input(\"Qual o seu palpite? \"))\n",
    "        tent2 = tent2 + 1\n",
    "    \n",
    "tent = tent1 + tent2\n",
    "print(\"Acertou com {} tentativas. Parabéns!\".format(tent))\n",
    "\n"
   ]
  },
  {
   "cell_type": "code",
   "execution_count": 10,
   "id": "ffe98918",
   "metadata": {},
   "outputs": [
    {
     "name": "stdout",
     "output_type": "stream",
     "text": [
      "Que nome feio viu\n",
      "Tenha um bom dia Mateus\n"
     ]
    }
   ],
   "source": [
    "nome = str(input(\"Digite o seu nome:\"))\n",
    "if nome == \"Gustavo\":\n",
    "    print(\"Que nome foda!\")\n",
    "elif nome == \"Ana\" or nome == \"Pedro\" or nome == \"Júlia\":\n",
    "    print(\"Esse nome é até legalzinho\")\n",
    "elif nome == \"Mateus\":\n",
    "    print(\"Que nome feio viu\")\n",
    "else:\n",
    "    print(\"Apenas um nome normal\")\n",
    "print(\"Tenha um bom dia {}\".format(nome))\n"
   ]
  },
  {
   "cell_type": "code",
   "execution_count": 15,
   "id": "48dad048",
   "metadata": {},
   "outputs": [
    {
     "name": "stdout",
     "output_type": "stream",
     "text": [
      "O valor das parcelas foi de R$7500.0 mensalmente\n",
      "Porém, esse valor ultrapassa 30 por cento do seu salário, que é de R$1500.0\n"
     ]
    }
   ],
   "source": [
    "salario = float(input(\"Digite o seu salário: \"))\n",
    "casa = float(input(\"Agora, digite o valor da casa: \"))\n",
    "anos = int(input(\"Por último, digite em quantos anos pretende pagar a casa: \"))\n",
    "\n",
    "mensal = anos * 12\n",
    "parcela = casa / mensal\n",
    "porcentagem = (salario / 100) * 30\n",
    "print(\"O valor das parcelas foi de R${} mensalmente\".format(parcela))\n",
    "if parcela > porcentagem:\n",
    "    print(\"Porém, esse valor ultrapassa 30 por cento do seu salário, que é de R${}\".format(porcentagem))\n",
    "else:\n",
    "    print(\"E esse valor, não ultrapassa 30 por cento do seu salário, que é de R${}\".format(porcentagem))"
   ]
  },
  {
   "cell_type": "code",
   "execution_count": 18,
   "id": "f3fd9a6a",
   "metadata": {},
   "outputs": [
    {
     "name": "stdout",
     "output_type": "stream",
     "text": [
      "O 8 é igual ao 8\n"
     ]
    }
   ],
   "source": [
    "n1 = int(input(\"Digite o primeiro número: \"))\n",
    "n2 = int(input(\"Digite o segundo número: \"))\n",
    "\n",
    "if n1 > n2:\n",
    "    print(\"O {} é maior que o {}\".format(n1,n2))\n",
    "elif n2 > n1:\n",
    "    print(\"O {} é maior que o {}\".format(n2,n1))\n",
    "else:\n",
    "    print(\"O {} é igual ao {}\".format(n1,n2))"
   ]
  },
  {
   "cell_type": "code",
   "execution_count": 21,
   "id": "f2c9e41e",
   "metadata": {},
   "outputs": [
    {
     "name": "stdout",
     "output_type": "stream",
     "text": [
      "Você irá se alistar daqui a 5 anos!\n"
     ]
    }
   ],
   "source": [
    "ano = int(input(\"Digite o ano que você nasceu: \"))\n",
    "idade = 2025 - ano\n",
    "if idade < 18:\n",
    "    tempo = 18 - idade\n",
    "    print(\"Você irá se alistar daqui a {} anos!\".format(tempo))\n",
    "elif idade > 18: \n",
    "    tempo = idade - 18\n",
    "    print(\"Você deveria ter se alistado a {} anos atrás!\".format(tempo))\n",
    "else:\n",
    "    print(\"Você tem {} anos! Está na hora de se alistar.\".format(idade))\n",
    "\n"
   ]
  },
  {
   "cell_type": "code",
   "execution_count": 26,
   "id": "d94721d8",
   "metadata": {},
   "outputs": [
    {
     "name": "stdout",
     "output_type": "stream",
     "text": [
      "Você está de RECUPERAÇÃO!\n"
     ]
    }
   ],
   "source": [
    "n1 = float(input(\"Digite sua primeira nota: \"))\n",
    "n2 = float(input(\"Digite sua segunda nota: \"))\n",
    "media = (n1+n2) / 2\n",
    "\n",
    "if media < 5.0:\n",
    "    print(\"Você está REPROVADO!\")\n",
    "elif media>5.0 and media<6.9:\n",
    "    print(\"Você está de RECUPERAÇÃO!\")\n",
    "else:\n",
    "    print(\"Você está APROVADO!\")"
   ]
  },
  {
   "cell_type": "code",
   "execution_count": 1,
   "id": "5c398f3a",
   "metadata": {},
   "outputs": [
    {
     "name": "stdout",
     "output_type": "stream",
     "text": [
      "Formas de Pagamento\n",
      " 1- À vista (Dinheiro)\n",
      " 2- À vista (Cartão)\n",
      " 3- Parcelado\n",
      "\n",
      "Seu juros foi de 20 por cento, o valor final do produto foi de R$240.0\n"
     ]
    }
   ],
   "source": [
    "produto = float(input(\"Digite o valor do produto: \"))\n",
    "print(\"Formas de Pagamento\")\n",
    "print(\" 1- À vista (Dinheiro)\\n 2- À vista (Cartão)\\n 3- Parcelado\\n\")\n",
    "modo = int(input(\"Escolha uma opção: \"))\n",
    "\n",
    "if modo == 1:\n",
    "    total=  produto -((produto/100) * 10) \n",
    "    print(\"Seu desconto foi de 10 por cento, o valor final do produto foi de R${}\".format(total))\n",
    "elif modo == 2:\n",
    "    total=  produto -((produto/100) * 5) \n",
    "    print(\"Seu desconto foi de 5 por cento, o valor final do produto foi de R${}\".format(total))\n",
    "else:\n",
    "    quantidade = int(input(\"Vai parcelar em quantas vezes: \"))\n",
    "    if quantidade == 2:\n",
    "        print(\"O preço do produto não terá desconto, seu valor final vai ser de {}\".format(produto))\n",
    "    else:\n",
    "        total=  produto + ((produto/100) * 20) \n",
    "        print(\"Seu juros foi de 20 por cento, o valor final do produto foi de R${}\".format(total))\n",
    "       \n"
   ]
  },
  {
   "cell_type": "code",
   "execution_count": 14,
   "id": "062fc54b",
   "metadata": {},
   "outputs": [
    {
     "name": "stdout",
     "output_type": "stream",
     "text": [
      "Olá! Muito prazer em te conhecer\u001b[34m Gustavo \u001b[33m\n"
     ]
    }
   ],
   "source": [
    "nome = \"Gustavo\"\n",
    "cores = {\n",
    "    \"limpa\" : \"\\033[m\",\n",
    "    \"azul\": \"\\033[34m\",\n",
    "    \"amarelo\" : \"\\033[33m\",\n",
    "    \"pretoebranco\" : \"\\033[7:30m\"\n",
    "}\n",
    "\n",
    "print(\"Olá! Muito prazer em te conhecer{} {} {}\".format(cores[\"azul\"],nome, cores[\"amarelo\"]))"
   ]
  }
 ],
 "metadata": {
  "kernelspec": {
   "display_name": "Python 3",
   "language": "python",
   "name": "python3"
  },
  "language_info": {
   "codemirror_mode": {
    "name": "ipython",
    "version": 3
   },
   "file_extension": ".py",
   "mimetype": "text/x-python",
   "name": "python",
   "nbconvert_exporter": "python",
   "pygments_lexer": "ipython3",
   "version": "3.13.7"
  }
 },
 "nbformat": 4,
 "nbformat_minor": 5
}
