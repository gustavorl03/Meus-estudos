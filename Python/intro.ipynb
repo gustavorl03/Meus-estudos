{
 "cells": [
  {
   "cell_type": "code",
   "execution_count": 3,
   "id": "ee338a5d",
   "metadata": {},
   "outputs": [
    {
     "name": "stdout",
     "output_type": "stream",
     "text": [
      "O resultado da soma entre 5.0 e 2.0 é igual a 7.0 \n"
     ]
    }
   ],
   "source": [
    "X1= float(input(\"Digite um número: \"))\n",
    "X2= float(input(\"Digite outro número: \"))\n",
    "res= X1 + X2\n",
    "print(f\"O resultado da soma entre {X1} e {X2} é igual a {res} \")"
   ]
  },
  {
   "cell_type": "code",
   "execution_count": null,
   "id": "67444b3a",
   "metadata": {},
   "outputs": [
    {
     "name": "stdout",
     "output_type": "stream",
     "text": [
      "O tipo primitivo desse valor é <class 'str'> \n",
      "Só tem espaços? False\n",
      "É alfabético? True\n",
      "Tem espaço? False\n",
      "Tem maiúscula? True\n",
      "Tem minúscula? False\n",
      "Tem número? True\n"
     ]
    }
   ],
   "source": [
    "a= str(input(\"Digite algo: \"))\n",
    "print(f\"O tipo primitivo desse valor é {type(a)} \")\n",
    "print (\"Só tem espaços? {}\" .format(a.isspace()))\n",
    "print(\"É alfabético? {}\" .format(a.isalpha()))\n",
    "print(\"Tem espaço? {}\" .format(a.isspace()))\n",
    "print(\"Tem maiúscula? {}\" .format(a.isupper()))\n",
    "print(\"Tem minúscula? {}\" .format(a.islower()))\n"
   ]
  }
 ],
 "metadata": {
  "kernelspec": {
   "display_name": "Python 3",
   "language": "python",
   "name": "python3"
  },
  "language_info": {
   "codemirror_mode": {
    "name": "ipython",
    "version": 3
   },
   "file_extension": ".py",
   "mimetype": "text/x-python",
   "name": "python",
   "nbconvert_exporter": "python",
   "pygments_lexer": "ipython3",
   "version": "3.13.7"
  }
 },
 "nbformat": 4,
 "nbformat_minor": 5
}
